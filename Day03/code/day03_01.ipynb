{
 "cells": [
  {
   "cell_type": "markdown",
   "metadata": {},
   "source": [
    "# 正则表达式"
   ]
  },
  {
   "cell_type": "code",
   "execution_count": 1,
   "metadata": {},
   "outputs": [],
   "source": [
    "import re"
   ]
  },
  {
   "cell_type": "code",
   "execution_count": 2,
   "metadata": {},
   "outputs": [],
   "source": [
    "sentence = \"Hello! I'm 12218. ✧٩(ˊωˋ*)و✧\""
   ]
  },
  {
   "cell_type": "markdown",
   "metadata": {},
   "source": [
    "## match"
   ]
  },
  {
   "cell_type": "code",
   "execution_count": 10,
   "metadata": {},
   "outputs": [
    {
     "name": "stdout",
     "output_type": "stream",
     "text": [
      "<_sre.SRE_Match object; span=(0, 28), match=\"Hello! I'm 12218. ✧٩(ˊωˋ*)و✧\">\n",
      "Hello! I'm 12218. ✧٩(ˊωˋ*)و✧\n",
      "Hello! I'm 12218. ✧٩(ˊωˋ*)و✧\n",
      "12218\n"
     ]
    }
   ],
   "source": [
    "text = re.match(r'^Hello.*?(\\d+).*', sentence)\n",
    "print(text)\n",
    "print(text.group())\n",
    "print(text.group(0)) # group()和group(0)作用一样，都是匹配到的全部字符串\n",
    "print(text.group(1)) # group(1)是取匹配到的第一个字符串"
   ]
  },
  {
   "cell_type": "code",
   "execution_count": 14,
   "metadata": {},
   "outputs": [
    {
     "name": "stdout",
     "output_type": "stream",
     "text": [
      "None\n"
     ]
    }
   ],
   "source": [
    "text = re.match(r'ello.*?(\\d+).*', sentence) # 但是如果开头不匹配，则返回None\n",
    "print(text)"
   ]
  },
  {
   "cell_type": "markdown",
   "metadata": {},
   "source": [
    "## search"
   ]
  },
  {
   "cell_type": "code",
   "execution_count": 19,
   "metadata": {},
   "outputs": [
    {
     "name": "stdout",
     "output_type": "stream",
     "text": [
      "<_sre.SRE_Match object; span=(1, 28), match=\"ello! I'm 12218. ✧٩(ˊωˋ*)و✧\">\n",
      "ello! I'm 12218. ✧٩(ˊωˋ*)و✧\n",
      "ello! I'm 12218. ✧٩(ˊωˋ*)و✧\n",
      "12218\n"
     ]
    }
   ],
   "source": [
    "text = re.search(r'ello.*?(\\d+).*', sentence) # search会从字符串的任意位置开始进行匹配\n",
    "print(text)\n",
    "print(text.group())\n",
    "print(text.group(0))\n",
    "print(text.group(1))"
   ]
  },
  {
   "cell_type": "markdown",
   "metadata": {},
   "source": [
    "## finall"
   ]
  },
  {
   "cell_type": "code",
   "execution_count": 30,
   "metadata": {},
   "outputs": [
    {
     "name": "stdout",
     "output_type": "stream",
     "text": [
      "['1', '2', '2', '1', '8', '٩']\n",
      "<class 'list'>\n"
     ]
    }
   ],
   "source": [
    "text = re.findall(r'\\d', sentence) # findall是从字符串里面寻找所有符合条件的匹配部分\n",
    "print(text)\n",
    "print(type(text))"
   ]
  },
  {
   "cell_type": "markdown",
   "metadata": {},
   "source": [
    "## compile"
   ]
  },
  {
   "cell_type": "code",
   "execution_count": 33,
   "metadata": {},
   "outputs": [
    {
     "name": "stdout",
     "output_type": "stream",
     "text": [
      "['12218', '٩']\n"
     ]
    }
   ],
   "source": [
    "content = re.compile(r'.*?(\\d+).*?') # 将一个正则表达式编译成一个正则表达式对象，可以更方便地使用\n",
    "text = re.findall(content, sentence)\n",
    "print(text)"
   ]
  },
  {
   "cell_type": "code",
   "execution_count": null,
   "metadata": {},
   "outputs": [],
   "source": []
  }
 ],
 "metadata": {
  "kernelspec": {
   "display_name": "Python 3.6.5 64-bit",
   "language": "python",
   "name": "python36564bit2cfdc13ef4e94da2b709289100a93aa9"
  },
  "language_info": {
   "codemirror_mode": {
    "name": "ipython",
    "version": 3
   },
   "file_extension": ".py",
   "mimetype": "text/x-python",
   "name": "python",
   "nbconvert_exporter": "python",
   "pygments_lexer": "ipython3",
   "version": "3.6.5"
  }
 },
 "nbformat": 4,
 "nbformat_minor": 2
}
